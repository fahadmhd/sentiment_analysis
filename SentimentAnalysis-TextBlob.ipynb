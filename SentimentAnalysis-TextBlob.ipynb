{
 "cells": [
  {
   "cell_type": "code",
   "execution_count": 1,
   "id": "9f136bc2-d38a-4539-851a-1604ad304ebd",
   "metadata": {},
   "outputs": [],
   "source": [
    "from textblob import TextBlob\n",
    "import pandas as pd"
   ]
  },
  {
   "cell_type": "code",
   "execution_count": 2,
   "id": "e8523c1f-2763-428d-9f28-9f4822d1050a",
   "metadata": {},
   "outputs": [],
   "source": [
    "# Sample sentences for sentiment analysis\n",
    "sentences = [\n",
    "\"I love this product! It works wonderfully.\",\n",
    "\"This is the worst experience I've ever had.\",\n",
    "\"The service was okay, nothing special.\",\n",
    "\"this is amazing product\",\n",
    "\"what a wastage of money\",\n",
    "\"what a wastage of money, I dont like it at all\",\n",
    "]"
   ]
  },
  {
   "cell_type": "code",
   "execution_count": 3,
   "id": "6dbb8ea2-c3f7-428a-bdb4-b63a5bbb2bb5",
   "metadata": {},
   "outputs": [],
   "source": [
    "# Function to analyze sentiment\n",
    "def analyze_sentiment(text):\n",
    "    analysis = TextBlob(text)\n",
    "    # Classify sentiment\n",
    "    if analysis.sentiment.polarity > 0:\n",
    "        return 'Positive'\n",
    "    elif analysis.sentiment.polarity < 0:\n",
    "        return 'Negative'\n",
    "    else:\n",
    "        return 'Neutral'"
   ]
  },
  {
   "cell_type": "code",
   "execution_count": 4,
   "id": "b1c027a1-8817-4bc3-b97f-10eb55b32dfe",
   "metadata": {},
   "outputs": [],
   "source": [
    "# Create a DataFrame to store results\n",
    "df = pd.DataFrame(sentences, columns=['Sentence'])\n",
    "df['Sentiment'] = df['Sentence'].apply(analyze_sentiment)"
   ]
  },
  {
   "cell_type": "code",
   "execution_count": 5,
   "id": "cfe6b6f4-daf1-45bf-b809-7d39569c5637",
   "metadata": {},
   "outputs": [
    {
     "name": "stdout",
     "output_type": "stream",
     "text": [
      "                                         Sentence Sentiment\n",
      "0      I love this product! It works wonderfully.  Positive\n",
      "1     This is the worst experience I've ever had.  Negative\n",
      "2          The service was okay, nothing special.  Positive\n",
      "3                         this is amazing product  Positive\n",
      "4                         what a wastage of money   Neutral\n",
      "5  what a wastage of money, I dont like it at all   Neutral\n"
     ]
    }
   ],
   "source": [
    "# Display the results\n",
    "print(df)"
   ]
  },
  {
   "cell_type": "code",
   "execution_count": null,
   "id": "1bfcdd03-2fe4-434d-845a-fe16d70dd428",
   "metadata": {},
   "outputs": [],
   "source": []
  }
 ],
 "metadata": {
  "kernelspec": {
   "display_name": "Python 3 (ipykernel)",
   "language": "python",
   "name": "python3"
  },
  "language_info": {
   "codemirror_mode": {
    "name": "ipython",
    "version": 3
   },
   "file_extension": ".py",
   "mimetype": "text/x-python",
   "name": "python",
   "nbconvert_exporter": "python",
   "pygments_lexer": "ipython3",
   "version": "3.11.7"
  }
 },
 "nbformat": 4,
 "nbformat_minor": 5
}
