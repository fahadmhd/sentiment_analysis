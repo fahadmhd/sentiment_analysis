{
 "cells": [
  {
   "cell_type": "code",
   "execution_count": 1,
   "id": "9f136bc2-d38a-4539-851a-1604ad304ebd",
   "metadata": {},
   "outputs": [],
   "source": [
    "import numpy as np\n",
    "import pandas as pd\n",
    "import matplotlib.pyplot as plt\n",
    "import seaborn as sns"
   ]
  },
  {
   "cell_type": "markdown",
   "id": "b30bfe19-69f3-455e-a0df-c6e55701663f",
   "metadata": {},
   "source": [
    "#https://www.kaggle.com/code/nguyncaoduy/twitter-sentiment-analysis-roberta-96-accuracy/input?select=twitter_training.csv"
   ]
  },
  {
   "cell_type": "code",
   "execution_count": 2,
   "id": "9c1a1775-4151-44de-b069-3fafb74965fc",
   "metadata": {},
   "outputs": [
    {
     "data": {
      "text/html": [
       "<div>\n",
       "<style scoped>\n",
       "    .dataframe tbody tr th:only-of-type {\n",
       "        vertical-align: middle;\n",
       "    }\n",
       "\n",
       "    .dataframe tbody tr th {\n",
       "        vertical-align: top;\n",
       "    }\n",
       "\n",
       "    .dataframe thead th {\n",
       "        text-align: right;\n",
       "    }\n",
       "</style>\n",
       "<table border=\"1\" class=\"dataframe\">\n",
       "  <thead>\n",
       "    <tr style=\"text-align: right;\">\n",
       "      <th></th>\n",
       "      <th>id</th>\n",
       "      <th>entity</th>\n",
       "      <th>sentiment</th>\n",
       "      <th>text</th>\n",
       "    </tr>\n",
       "  </thead>\n",
       "  <tbody>\n",
       "    <tr>\n",
       "      <th>0</th>\n",
       "      <td>2401</td>\n",
       "      <td>Borderlands</td>\n",
       "      <td>Positive</td>\n",
       "      <td>im getting on borderlands and i will murder yo...</td>\n",
       "    </tr>\n",
       "    <tr>\n",
       "      <th>1</th>\n",
       "      <td>2401</td>\n",
       "      <td>Borderlands</td>\n",
       "      <td>Positive</td>\n",
       "      <td>I am coming to the borders and I will kill you...</td>\n",
       "    </tr>\n",
       "    <tr>\n",
       "      <th>2</th>\n",
       "      <td>2401</td>\n",
       "      <td>Borderlands</td>\n",
       "      <td>Positive</td>\n",
       "      <td>im getting on borderlands and i will kill you ...</td>\n",
       "    </tr>\n",
       "    <tr>\n",
       "      <th>3</th>\n",
       "      <td>2401</td>\n",
       "      <td>Borderlands</td>\n",
       "      <td>Positive</td>\n",
       "      <td>im coming on borderlands and i will murder you...</td>\n",
       "    </tr>\n",
       "    <tr>\n",
       "      <th>4</th>\n",
       "      <td>2401</td>\n",
       "      <td>Borderlands</td>\n",
       "      <td>Positive</td>\n",
       "      <td>im getting on borderlands 2 and i will murder ...</td>\n",
       "    </tr>\n",
       "  </tbody>\n",
       "</table>\n",
       "</div>"
      ],
      "text/plain": [
       "     id       entity sentiment  \\\n",
       "0  2401  Borderlands  Positive   \n",
       "1  2401  Borderlands  Positive   \n",
       "2  2401  Borderlands  Positive   \n",
       "3  2401  Borderlands  Positive   \n",
       "4  2401  Borderlands  Positive   \n",
       "\n",
       "                                                text  \n",
       "0  im getting on borderlands and i will murder yo...  \n",
       "1  I am coming to the borders and I will kill you...  \n",
       "2  im getting on borderlands and i will kill you ...  \n",
       "3  im coming on borderlands and i will murder you...  \n",
       "4  im getting on borderlands 2 and i will murder ...  "
      ]
     },
     "execution_count": 2,
     "metadata": {},
     "output_type": "execute_result"
    }
   ],
   "source": [
    "train_df = pd.read_csv(\"twitter_training.csv\",\n",
    "                       names=[\"id\", \"entity\", \"sentiment\", \"text\"])\n",
    "train_df.head()"
   ]
  },
  {
   "cell_type": "code",
   "execution_count": 3,
   "id": "cfe6b6f4-daf1-45bf-b809-7d39569c5637",
   "metadata": {},
   "outputs": [],
   "source": [
    "# Display the results\n",
    "#print(df)"
   ]
  },
  {
   "cell_type": "markdown",
   "id": "8e708233-51a9-4212-86b4-a4388bf78130",
   "metadata": {},
   "source": [
    "#https://www.kaggle.com/code/nguyncaoduy/twitter-sentiment-analysis-roberta-96-accuracy/input?select=twitter_validation.csv"
   ]
  },
  {
   "cell_type": "code",
   "execution_count": 4,
   "id": "1bfcdd03-2fe4-434d-845a-fe16d70dd428",
   "metadata": {},
   "outputs": [
    {
     "data": {
      "text/html": [
       "<div>\n",
       "<style scoped>\n",
       "    .dataframe tbody tr th:only-of-type {\n",
       "        vertical-align: middle;\n",
       "    }\n",
       "\n",
       "    .dataframe tbody tr th {\n",
       "        vertical-align: top;\n",
       "    }\n",
       "\n",
       "    .dataframe thead th {\n",
       "        text-align: right;\n",
       "    }\n",
       "</style>\n",
       "<table border=\"1\" class=\"dataframe\">\n",
       "  <thead>\n",
       "    <tr style=\"text-align: right;\">\n",
       "      <th></th>\n",
       "      <th>id</th>\n",
       "      <th>entity</th>\n",
       "      <th>sentiment</th>\n",
       "      <th>text</th>\n",
       "    </tr>\n",
       "  </thead>\n",
       "  <tbody>\n",
       "    <tr>\n",
       "      <th>0</th>\n",
       "      <td>3364</td>\n",
       "      <td>Facebook</td>\n",
       "      <td>Irrelevant</td>\n",
       "      <td>I mentioned on Facebook that I was struggling ...</td>\n",
       "    </tr>\n",
       "    <tr>\n",
       "      <th>1</th>\n",
       "      <td>352</td>\n",
       "      <td>Amazon</td>\n",
       "      <td>Neutral</td>\n",
       "      <td>BBC News - Amazon boss Jeff Bezos rejects clai...</td>\n",
       "    </tr>\n",
       "    <tr>\n",
       "      <th>2</th>\n",
       "      <td>8312</td>\n",
       "      <td>Microsoft</td>\n",
       "      <td>Negative</td>\n",
       "      <td>@Microsoft Why do I pay for WORD when it funct...</td>\n",
       "    </tr>\n",
       "    <tr>\n",
       "      <th>3</th>\n",
       "      <td>4371</td>\n",
       "      <td>CS-GO</td>\n",
       "      <td>Negative</td>\n",
       "      <td>CSGO matchmaking is so full of closet hacking,...</td>\n",
       "    </tr>\n",
       "    <tr>\n",
       "      <th>4</th>\n",
       "      <td>4433</td>\n",
       "      <td>Google</td>\n",
       "      <td>Neutral</td>\n",
       "      <td>Now the President is slapping Americans in the...</td>\n",
       "    </tr>\n",
       "  </tbody>\n",
       "</table>\n",
       "</div>"
      ],
      "text/plain": [
       "     id     entity   sentiment  \\\n",
       "0  3364   Facebook  Irrelevant   \n",
       "1   352     Amazon     Neutral   \n",
       "2  8312  Microsoft    Negative   \n",
       "3  4371      CS-GO    Negative   \n",
       "4  4433     Google     Neutral   \n",
       "\n",
       "                                                text  \n",
       "0  I mentioned on Facebook that I was struggling ...  \n",
       "1  BBC News - Amazon boss Jeff Bezos rejects clai...  \n",
       "2  @Microsoft Why do I pay for WORD when it funct...  \n",
       "3  CSGO matchmaking is so full of closet hacking,...  \n",
       "4  Now the President is slapping Americans in the...  "
      ]
     },
     "execution_count": 4,
     "metadata": {},
     "output_type": "execute_result"
    }
   ],
   "source": [
    "test_df = pd.read_csv(\"twitter_validation.csv\", \n",
    "                     names=[\"id\", \"entity\", \"sentiment\", \"text\"])\n",
    "test_df.head()"
   ]
  },
  {
   "cell_type": "code",
   "execution_count": 5,
   "id": "3435aa18-99c3-436c-b13c-68e5786a56bf",
   "metadata": {},
   "outputs": [
    {
     "data": {
      "text/plain": [
       "id             0\n",
       "entity         0\n",
       "sentiment      0\n",
       "text         686\n",
       "dtype: int64"
      ]
     },
     "execution_count": 5,
     "metadata": {},
     "output_type": "execute_result"
    }
   ],
   "source": [
    "train_df.isna().sum()"
   ]
  },
  {
   "cell_type": "code",
   "execution_count": 6,
   "id": "40e16ee4-51ef-4669-8065-2afdeb8d9f50",
   "metadata": {},
   "outputs": [
    {
     "data": {
      "text/plain": [
       "id           0\n",
       "entity       0\n",
       "sentiment    0\n",
       "text         0\n",
       "dtype: int64"
      ]
     },
     "execution_count": 6,
     "metadata": {},
     "output_type": "execute_result"
    }
   ],
   "source": [
    "test_df.isna().sum()"
   ]
  },
  {
   "cell_type": "code",
   "execution_count": 7,
   "id": "0c919271-66e9-41e5-b137-954ceeabff39",
   "metadata": {},
   "outputs": [],
   "source": [
    "# Drop na rows from train_df\n",
    "train_df = train_df.dropna()"
   ]
  },
  {
   "cell_type": "code",
   "execution_count": 8,
   "id": "3d6d58c8-dabe-4daf-b039-f8ddbead4737",
   "metadata": {},
   "outputs": [],
   "source": [
    "#train_df = train_df[:5000]\n",
    "train_df = train_df[:1000]"
   ]
  },
  {
   "cell_type": "code",
   "execution_count": 9,
   "id": "6a3991f5-c65e-4201-a15c-d6ed44a807cd",
   "metadata": {},
   "outputs": [
    {
     "name": "stdout",
     "output_type": "stream",
     "text": [
      "Training set: 1000 rows\n",
      "Test set: 1000 rows\n"
     ]
    }
   ],
   "source": [
    "# Data size\n",
    "print(f\"Training set: {len(train_df)} rows\")\n",
    "print(f\"Test set: {len(test_df)} rows\")"
   ]
  },
  {
   "cell_type": "code",
   "execution_count": 10,
   "id": "5d2a81bc-c1ed-4061-919f-ac0933d62df8",
   "metadata": {},
   "outputs": [
    {
     "name": "stderr",
     "output_type": "stream",
     "text": [
      "C:\\Users\\fahad\\anaconda3\\Lib\\site-packages\\seaborn\\_oldcore.py:1119: FutureWarning: use_inf_as_na option is deprecated and will be removed in a future version. Convert inf values to NaN before operating instead.\n",
      "  with pd.option_context('mode.use_inf_as_na', True):\n"
     ]
    },
    {
     "data": {
      "image/png": "[encoded data removed]",
      "text/plain": [
       "<Figure size 640x480 with 1 Axes>"
      ]
     },
     "metadata": {},
     "output_type": "display_data"
    }
   ],
   "source": [
    "# Distribution of the text length\n",
    "sns.histplot(train_df[\"text\"].str.len(), binwidth=50)\n",
    "plt.show()"
   ]
  },
  {
   "cell_type": "code",
   "execution_count": 11,
   "id": "b25bc190-edc9-4a70-b5b8-945cf5cc9957",
   "metadata": {},
   "outputs": [
    {
     "name": "stderr",
     "output_type": "stream",
     "text": [
      "C:\\Users\\fahad\\AppData\\Local\\Temp\\ipykernel_38188\\1829390417.py:3: DeprecationWarning: DataFrameGroupBy.apply operated on the grouping columns. This behavior is deprecated, and in a future version of pandas the grouping columns will be excluded from the operation. Either pass `include_groups=False` to exclude the groupings or explicitly select the grouping columns after groupby to silence this warning.\n",
      "  train_df.groupby('sentiment').apply(lambda x: x.sample(sample_size))\n"
     ]
    },
    {
     "data": {
      "text/html": [
       "<div>\n",
       "<style scoped>\n",
       "    .dataframe tbody tr th:only-of-type {\n",
       "        vertical-align: middle;\n",
       "    }\n",
       "\n",
       "    .dataframe tbody tr th {\n",
       "        vertical-align: top;\n",
       "    }\n",
       "\n",
       "    .dataframe thead th {\n",
       "        text-align: right;\n",
       "    }\n",
       "</style>\n",
       "<table border=\"1\" class=\"dataframe\">\n",
       "  <thead>\n",
       "    <tr style=\"text-align: right;\">\n",
       "      <th></th>\n",
       "      <th></th>\n",
       "      <th>id</th>\n",
       "      <th>entity</th>\n",
       "      <th>sentiment</th>\n",
       "      <th>text</th>\n",
       "    </tr>\n",
       "    <tr>\n",
       "      <th>sentiment</th>\n",
       "      <th></th>\n",
       "      <th></th>\n",
       "      <th></th>\n",
       "      <th></th>\n",
       "      <th></th>\n",
       "    </tr>\n",
       "  </thead>\n",
       "  <tbody>\n",
       "    <tr>\n",
       "      <th rowspan=\"3\" valign=\"top\">Irrelevant</th>\n",
       "      <th>672</th>\n",
       "      <td>2519</td>\n",
       "      <td>Borderlands</td>\n",
       "      <td>Irrelevant</td>\n",
       "      <td>My h0rny friend is also a fantastic artist 🥰🥰🥰</td>\n",
       "    </tr>\n",
       "    <tr>\n",
       "      <th>576</th>\n",
       "      <td>2500</td>\n",
       "      <td>Borderlands</td>\n",
       "      <td>Irrelevant</td>\n",
       "      <td>Top 4 favourite games you say? 🤔. . Sea of Thi...</td>\n",
       "    </tr>\n",
       "    <tr>\n",
       "      <th>567</th>\n",
       "      <td>2498</td>\n",
       "      <td>Borderlands</td>\n",
       "      <td>Irrelevant</td>\n",
       "      <td>RhandlerR My homage to a friend, a warrior of ...</td>\n",
       "    </tr>\n",
       "    <tr>\n",
       "      <th rowspan=\"3\" valign=\"top\">Negative</th>\n",
       "      <th>875</th>\n",
       "      <td>2554</td>\n",
       "      <td>Borderlands</td>\n",
       "      <td>Negative</td>\n",
       "      <td>you</td>\n",
       "    </tr>\n",
       "    <tr>\n",
       "      <th>522</th>\n",
       "      <td>2490</td>\n",
       "      <td>Borderlands</td>\n",
       "      <td>Negative</td>\n",
       "      <td>My most despised area in Borderlands 1 is now ...</td>\n",
       "    </tr>\n",
       "    <tr>\n",
       "      <th>848</th>\n",
       "      <td>2550</td>\n",
       "      <td>Borderlands</td>\n",
       "      <td>Negative</td>\n",
       "      <td>@ Borderlands I have some misgivings about the...</td>\n",
       "    </tr>\n",
       "    <tr>\n",
       "      <th rowspan=\"3\" valign=\"top\">Neutral</th>\n",
       "      <th>940</th>\n",
       "      <td>2566</td>\n",
       "      <td>Borderlands</td>\n",
       "      <td>Neutral</td>\n",
       "      <td>Sky Rocket &gt; a SuperBadass or Caustic for Goli...</td>\n",
       "    </tr>\n",
       "    <tr>\n",
       "      <th>919</th>\n",
       "      <td>2563</td>\n",
       "      <td>Borderlands</td>\n",
       "      <td>Neutral</td>\n",
       "      <td>The @ jackothyzine is my first fan to do Borde...</td>\n",
       "    </tr>\n",
       "    <tr>\n",
       "      <th>91</th>\n",
       "      <td>2416</td>\n",
       "      <td>Borderlands</td>\n",
       "      <td>Neutral</td>\n",
       "      <td>I hate that this simple Chaos Modifier event o...</td>\n",
       "    </tr>\n",
       "    <tr>\n",
       "      <th rowspan=\"3\" valign=\"top\">Positive</th>\n",
       "      <th>720</th>\n",
       "      <td>2527</td>\n",
       "      <td>Borderlands</td>\n",
       "      <td>Positive</td>\n",
       "      <td>Watching You Kalloori Perfect Situation Mystic...</td>\n",
       "    </tr>\n",
       "    <tr>\n",
       "      <th>956</th>\n",
       "      <td>2570</td>\n",
       "      <td>Borderlands</td>\n",
       "      <td>Positive</td>\n",
       "      <td>Last year I had the legitimate pleasure of wor...</td>\n",
       "    </tr>\n",
       "    <tr>\n",
       "      <th>993</th>\n",
       "      <td>2576</td>\n",
       "      <td>Borderlands</td>\n",
       "      <td>Positive</td>\n",
       "      <td>Sweet</td>\n",
       "    </tr>\n",
       "  </tbody>\n",
       "</table>\n",
       "</div>"
      ],
      "text/plain": [
       "                  id       entity   sentiment  \\\n",
       "sentiment                                       \n",
       "Irrelevant 672  2519  Borderlands  Irrelevant   \n",
       "           576  2500  Borderlands  Irrelevant   \n",
       "           567  2498  Borderlands  Irrelevant   \n",
       "Negative   875  2554  Borderlands    Negative   \n",
       "           522  2490  Borderlands    Negative   \n",
       "           848  2550  Borderlands    Negative   \n",
       "Neutral    940  2566  Borderlands     Neutral   \n",
       "           919  2563  Borderlands     Neutral   \n",
       "           91   2416  Borderlands     Neutral   \n",
       "Positive   720  2527  Borderlands    Positive   \n",
       "           956  2570  Borderlands    Positive   \n",
       "           993  2576  Borderlands    Positive   \n",
       "\n",
       "                                                             text  \n",
       "sentiment                                                          \n",
       "Irrelevant 672     My h0rny friend is also a fantastic artist 🥰🥰🥰  \n",
       "           576  Top 4 favourite games you say? 🤔. . Sea of Thi...  \n",
       "           567  RhandlerR My homage to a friend, a warrior of ...  \n",
       "Negative   875                                                you  \n",
       "           522  My most despised area in Borderlands 1 is now ...  \n",
       "           848  @ Borderlands I have some misgivings about the...  \n",
       "Neutral    940  Sky Rocket > a SuperBadass or Caustic for Goli...  \n",
       "           919  The @ jackothyzine is my first fan to do Borde...  \n",
       "           91   I hate that this simple Chaos Modifier event o...  \n",
       "Positive   720  Watching You Kalloori Perfect Situation Mystic...  \n",
       "           956  Last year I had the legitimate pleasure of wor...  \n",
       "           993                                              Sweet  "
      ]
     },
     "execution_count": 11,
     "metadata": {},
     "output_type": "execute_result"
    }
   ],
   "source": [
    "# Sample of tweets from each class\n",
    "sample_size = 3\n",
    "train_df.groupby('sentiment').apply(lambda x: x.sample(sample_size))"
   ]
  },
  {
   "cell_type": "code",
   "execution_count": 12,
   "id": "422fb283-7c12-4533-a221-e5188b2ebdff",
   "metadata": {},
   "outputs": [
    {
     "name": "stdout",
     "output_type": "stream",
     "text": [
      "['Positive', 'Neutral', 'Negative', 'Irrelevant']\n",
      "{0: 'Positive', 1: 'Neutral', 2: 'Negative', 3: 'Irrelevant'}\n",
      "{'Positive': 0, 'Neutral': 1, 'Negative': 2, 'Irrelevant': 3}\n"
     ]
    }
   ],
   "source": [
    "# Create a mapping of labels to numbers\n",
    "labels = list(train_df['sentiment'].unique())\n",
    "id2label = {k:v for k,v in enumerate(labels)}\n",
    "label2id = {v:k for k,v in enumerate(labels)}\n",
    "print(labels)\n",
    "print(id2label)\n",
    "print(label2id)"
   ]
  },
  {
   "cell_type": "code",
   "execution_count": 13,
   "id": "97268338-643a-402d-a217-7d785bb944cb",
   "metadata": {},
   "outputs": [
    {
     "data": {
      "text/html": [
       "<div>\n",
       "<style scoped>\n",
       "    .dataframe tbody tr th:only-of-type {\n",
       "        vertical-align: middle;\n",
       "    }\n",
       "\n",
       "    .dataframe tbody tr th {\n",
       "        vertical-align: top;\n",
       "    }\n",
       "\n",
       "    .dataframe thead th {\n",
       "        text-align: right;\n",
       "    }\n",
       "</style>\n",
       "<table border=\"1\" class=\"dataframe\">\n",
       "  <thead>\n",
       "    <tr style=\"text-align: right;\">\n",
       "      <th></th>\n",
       "      <th>id</th>\n",
       "      <th>entity</th>\n",
       "      <th>sentiment</th>\n",
       "      <th>text</th>\n",
       "      <th>label</th>\n",
       "    </tr>\n",
       "  </thead>\n",
       "  <tbody>\n",
       "    <tr>\n",
       "      <th>0</th>\n",
       "      <td>2401</td>\n",
       "      <td>Borderlands</td>\n",
       "      <td>Positive</td>\n",
       "      <td>im getting on borderlands and i will murder yo...</td>\n",
       "      <td>0</td>\n",
       "    </tr>\n",
       "    <tr>\n",
       "      <th>1</th>\n",
       "      <td>2401</td>\n",
       "      <td>Borderlands</td>\n",
       "      <td>Positive</td>\n",
       "      <td>I am coming to the borders and I will kill you...</td>\n",
       "      <td>0</td>\n",
       "    </tr>\n",
       "    <tr>\n",
       "      <th>2</th>\n",
       "      <td>2401</td>\n",
       "      <td>Borderlands</td>\n",
       "      <td>Positive</td>\n",
       "      <td>im getting on borderlands and i will kill you ...</td>\n",
       "      <td>0</td>\n",
       "    </tr>\n",
       "    <tr>\n",
       "      <th>3</th>\n",
       "      <td>2401</td>\n",
       "      <td>Borderlands</td>\n",
       "      <td>Positive</td>\n",
       "      <td>im coming on borderlands and i will murder you...</td>\n",
       "      <td>0</td>\n",
       "    </tr>\n",
       "    <tr>\n",
       "      <th>4</th>\n",
       "      <td>2401</td>\n",
       "      <td>Borderlands</td>\n",
       "      <td>Positive</td>\n",
       "      <td>im getting on borderlands 2 and i will murder ...</td>\n",
       "      <td>0</td>\n",
       "    </tr>\n",
       "  </tbody>\n",
       "</table>\n",
       "</div>"
      ],
      "text/plain": [
       "     id       entity sentiment  \\\n",
       "0  2401  Borderlands  Positive   \n",
       "1  2401  Borderlands  Positive   \n",
       "2  2401  Borderlands  Positive   \n",
       "3  2401  Borderlands  Positive   \n",
       "4  2401  Borderlands  Positive   \n",
       "\n",
       "                                                text  label  \n",
       "0  im getting on borderlands and i will murder yo...      0  \n",
       "1  I am coming to the borders and I will kill you...      0  \n",
       "2  im getting on borderlands and i will kill you ...      0  \n",
       "3  im coming on borderlands and i will murder you...      0  \n",
       "4  im getting on borderlands 2 and i will murder ...      0  "
      ]
     },
     "execution_count": 13,
     "metadata": {},
     "output_type": "execute_result"
    }
   ],
   "source": [
    "train_df['label'] = train_df['sentiment'].map(label2id)\n",
    "test_df['label'] = test_df['sentiment'].map(label2id)\n",
    "\n",
    "train_df.head()"
   ]
  },
  {
   "cell_type": "markdown",
   "id": "3608d382-00f0-4524-a112-4023b1afcde7",
   "metadata": {},
   "source": [
    "# Sentiment Analysis\n",
    "Using Hugging Face Transformers"
   ]
  },
  {
   "cell_type": "code",
   "execution_count": 14,
   "id": "7e117c04-8b6f-4fb0-9fb2-a2e156a43592",
   "metadata": {},
   "outputs": [],
   "source": [
    "model_name = \"cardiffnlp/twitter-roberta-base-sentiment\""
   ]
  },
  {
   "cell_type": "markdown",
   "id": "190fb683-e7d6-413c-8857-42cb0bbe2787",
   "metadata": {},
   "source": [
    "### Loading dataset"
   ]
  },
  {
   "cell_type": "code",
   "execution_count": 15,
   "id": "4073d452-fa17-44f6-bf13-4fff1e446b25",
   "metadata": {},
   "outputs": [],
   "source": [
    "# Split train_df into 90% training + 10% validation\n",
    "\n",
    "train = train_df.sample(frac=0.9, random_state=42)\n",
    "valid = train_df.drop(train.index)"
   ]
  },
  {
   "cell_type": "code",
   "execution_count": 16,
   "id": "373b9e73-5fa9-43da-a5fc-b86a882cc585",
   "metadata": {},
   "outputs": [
    {
     "data": {
      "text/html": [
       "<div>\n",
       "<style scoped>\n",
       "    .dataframe tbody tr th:only-of-type {\n",
       "        vertical-align: middle;\n",
       "    }\n",
       "\n",
       "    .dataframe tbody tr th {\n",
       "        vertical-align: top;\n",
       "    }\n",
       "\n",
       "    .dataframe thead th {\n",
       "        text-align: right;\n",
       "    }\n",
       "</style>\n",
       "<table border=\"1\" class=\"dataframe\">\n",
       "  <thead>\n",
       "    <tr style=\"text-align: right;\">\n",
       "      <th></th>\n",
       "      <th>id</th>\n",
       "      <th>entity</th>\n",
       "      <th>sentiment</th>\n",
       "      <th>text</th>\n",
       "      <th>label</th>\n",
       "    </tr>\n",
       "  </thead>\n",
       "  <tbody>\n",
       "    <tr>\n",
       "      <th>522</th>\n",
       "      <td>2490</td>\n",
       "      <td>Borderlands</td>\n",
       "      <td>Negative</td>\n",
       "      <td>My most despised area in Borderlands 1 is now ...</td>\n",
       "      <td>2</td>\n",
       "    </tr>\n",
       "    <tr>\n",
       "      <th>740</th>\n",
       "      <td>2531</td>\n",
       "      <td>Borderlands</td>\n",
       "      <td>Positive</td>\n",
       "      <td>Enjoying my Borderlands 3 Tubbz in the sun @ N...</td>\n",
       "      <td>0</td>\n",
       "    </tr>\n",
       "    <tr>\n",
       "      <th>743</th>\n",
       "      <td>2531</td>\n",
       "      <td>Borderlands</td>\n",
       "      <td>Positive</td>\n",
       "      <td>to the Borderlands 3 Tubbz out in the sun @Num...</td>\n",
       "      <td>0</td>\n",
       "    </tr>\n",
       "    <tr>\n",
       "      <th>663</th>\n",
       "      <td>2517</td>\n",
       "      <td>Borderlands</td>\n",
       "      <td>Positive</td>\n",
       "      <td>Actually. I think borderlands 3 might be a 5th...</td>\n",
       "      <td>0</td>\n",
       "    </tr>\n",
       "    <tr>\n",
       "      <th>412</th>\n",
       "      <td>2469</td>\n",
       "      <td>Borderlands</td>\n",
       "      <td>Positive</td>\n",
       "      <td>Perfect casting for first Lilith, most anticip...</td>\n",
       "      <td>0</td>\n",
       "    </tr>\n",
       "    <tr>\n",
       "      <th>...</th>\n",
       "      <td>...</td>\n",
       "      <td>...</td>\n",
       "      <td>...</td>\n",
       "      <td>...</td>\n",
       "      <td>...</td>\n",
       "    </tr>\n",
       "    <tr>\n",
       "      <th>252</th>\n",
       "      <td>2443</td>\n",
       "      <td>Borderlands</td>\n",
       "      <td>Neutral</td>\n",
       "      <td>Slutty mechanic... Im im...</td>\n",
       "      <td>1</td>\n",
       "    </tr>\n",
       "    <tr>\n",
       "      <th>729</th>\n",
       "      <td>2528</td>\n",
       "      <td>Borderlands</td>\n",
       "      <td>Negative</td>\n",
       "      <td>Capitalism on Political Borderlands</td>\n",
       "      <td>2</td>\n",
       "    </tr>\n",
       "    <tr>\n",
       "      <th>462</th>\n",
       "      <td>2478</td>\n",
       "      <td>Borderlands</td>\n",
       "      <td>Positive</td>\n",
       "      <td>Lil preview of a Maya drawing I've been chippi...</td>\n",
       "      <td>0</td>\n",
       "    </tr>\n",
       "    <tr>\n",
       "      <th>456</th>\n",
       "      <td>2477</td>\n",
       "      <td>Borderlands</td>\n",
       "      <td>Neutral</td>\n",
       "      <td>does fall damage canonically exist in the bord...</td>\n",
       "      <td>1</td>\n",
       "    </tr>\n",
       "    <tr>\n",
       "      <th>1000</th>\n",
       "      <td>2577</td>\n",
       "      <td>Borderlands</td>\n",
       "      <td>Positive</td>\n",
       "      <td>Who't s someone down for some @Borderlands on</td>\n",
       "      <td>0</td>\n",
       "    </tr>\n",
       "  </tbody>\n",
       "</table>\n",
       "<p>900 rows × 5 columns</p>\n",
       "</div>"
      ],
      "text/plain": [
       "        id       entity sentiment  \\\n",
       "522   2490  Borderlands  Negative   \n",
       "740   2531  Borderlands  Positive   \n",
       "743   2531  Borderlands  Positive   \n",
       "663   2517  Borderlands  Positive   \n",
       "412   2469  Borderlands  Positive   \n",
       "...    ...          ...       ...   \n",
       "252   2443  Borderlands   Neutral   \n",
       "729   2528  Borderlands  Negative   \n",
       "462   2478  Borderlands  Positive   \n",
       "456   2477  Borderlands   Neutral   \n",
       "1000  2577  Borderlands  Positive   \n",
       "\n",
       "                                                   text  label  \n",
       "522   My most despised area in Borderlands 1 is now ...      2  \n",
       "740   Enjoying my Borderlands 3 Tubbz in the sun @ N...      0  \n",
       "743   to the Borderlands 3 Tubbz out in the sun @Num...      0  \n",
       "663   Actually. I think borderlands 3 might be a 5th...      0  \n",
       "412   Perfect casting for first Lilith, most anticip...      0  \n",
       "...                                                 ...    ...  \n",
       "252                       Slutty mechanic... Im im...        1  \n",
       "729                 Capitalism on Political Borderlands      2  \n",
       "462   Lil preview of a Maya drawing I've been chippi...      0  \n",
       "456   does fall damage canonically exist in the bord...      1  \n",
       "1000      Who't s someone down for some @Borderlands on      0  \n",
       "\n",
       "[900 rows x 5 columns]"
      ]
     },
     "execution_count": 16,
     "metadata": {},
     "output_type": "execute_result"
    }
   ],
   "source": [
    "train"
   ]
  },
  {
   "cell_type": "code",
   "execution_count": 17,
   "id": "c383ad49-5d87-4ac0-bd7c-d267d4c96493",
   "metadata": {},
   "outputs": [],
   "source": [
    "from datasets import Dataset"
   ]
  },
  {
   "cell_type": "code",
   "execution_count": 18,
   "id": "38d58104-bc05-48bf-9690-0428f20ec2cc",
   "metadata": {},
   "outputs": [
    {
     "data": {
      "text/plain": [
       "(Dataset({\n",
       "     features: ['id', 'entity', 'sentiment', 'text', 'label', '__index_level_0__'],\n",
       "     num_rows: 900\n",
       " }),\n",
       " Dataset({\n",
       "     features: ['id', 'entity', 'sentiment', 'text', 'label', '__index_level_0__'],\n",
       "     num_rows: 100\n",
       " }),\n",
       " Dataset({\n",
       "     features: ['id', 'entity', 'sentiment', 'text', 'label'],\n",
       "     num_rows: 1000\n",
       " }))"
      ]
     },
     "execution_count": 18,
     "metadata": {},
     "output_type": "execute_result"
    }
   ],
   "source": [
    "train_ds = Dataset.from_pandas(train)\n",
    "valid_ds = Dataset.from_pandas(valid)\n",
    "test_ds = Dataset.from_pandas(test_df)\n",
    "\n",
    "train_ds, valid_ds, test_ds"
   ]
  },
  {
   "cell_type": "code",
   "execution_count": 19,
   "id": "34831ecf-3d85-4a3e-8ad3-4bee781e75a4",
   "metadata": {},
   "outputs": [
    {
     "data": {
      "text/plain": [
       "'My most despised area in Borderlands 1 is now the Rust Commons area. . So many sidequests'"
      ]
     },
     "execution_count": 19,
     "metadata": {},
     "output_type": "execute_result"
    }
   ],
   "source": [
    "train_ds['text'][0]"
   ]
  },
  {
   "cell_type": "markdown",
   "id": "2f12d948-e163-40bf-b92c-9f59d1432d3d",
   "metadata": {},
   "source": [
    "### Preprocessing"
   ]
  },
  {
   "cell_type": "code",
   "execution_count": 20,
   "id": "20153b30-6c67-480c-bb10-04a369c94654",
   "metadata": {},
   "outputs": [],
   "source": [
    "# Dynamic Padding\n",
    "from transformers import AutoTokenizer\n",
    "\n",
    "tokenizer = AutoTokenizer.from_pretrained(model_name)"
   ]
  },
  {
   "cell_type": "code",
   "execution_count": 21,
   "id": "dd802450-7f2d-4e2a-b24a-e4ea6a809b0b",
   "metadata": {},
   "outputs": [
    {
     "name": "stderr",
     "output_type": "stream",
     "text": [
      "C:\\Users\\fahad\\AppData\\Local\\Temp\\ipykernel_38188\\2251288920.py:4: FutureWarning: load_metric is deprecated and will be removed in the next major version of datasets. Use 'evaluate.load' instead, from the new library 🤗 Evaluate: https://huggingface.co/docs/evaluate\n",
      "  accuracy = load_metric('accuracy', trust_remote_code=True)\n"
     ]
    }
   ],
   "source": [
    "# Evaluate using accuracy\n",
    "from datasets import load_metric\n",
    "\n",
    "accuracy = load_metric('accuracy', trust_remote_code=True)\n",
    "\n",
    "def compute_metrics(eval_pred):\n",
    "    predictions, labels = eval_pred\n",
    "    predictions = np.argmax(predictions, axis=1)\n",
    "    return accuracy.compute(predictions=predictions, references=labels)"
   ]
  },
  {
   "cell_type": "code",
   "execution_count": 22,
   "id": "f65125a4-c46e-42a0-aa8d-56dbd11de70b",
   "metadata": {},
   "outputs": [
    {
     "data": {
      "application/vnd.jupyter.widget-view+json": {
       "model_id": "593e5c648c0e4748bea7ca2083e707c4",
       "version_major": 2,
       "version_minor": 0
      },
      "text/plain": [
       "Map:   0%|          | 0/900 [00:00<?, ? examples/s]"
      ]
     },
     "metadata": {},
     "output_type": "display_data"
    },
    {
     "data": {
      "application/vnd.jupyter.widget-view+json": {
       "model_id": "d6ac6ee9ae474abb82edd212f0b8c025",
       "version_major": 2,
       "version_minor": 0
      },
      "text/plain": [
       "Map:   0%|          | 0/100 [00:00<?, ? examples/s]"
      ]
     },
     "metadata": {},
     "output_type": "display_data"
    },
    {
     "data": {
      "application/vnd.jupyter.widget-view+json": {
       "model_id": "1b08a8f1400f4864987324ae1281a8b6",
       "version_major": 2,
       "version_minor": 0
      },
      "text/plain": [
       "Map:   0%|          | 0/1000 [00:00<?, ? examples/s]"
      ]
     },
     "metadata": {},
     "output_type": "display_data"
    }
   ],
   "source": [
    "def preprocess_function(examples):\n",
    "    return tokenizer(examples[\"text\"], truncation=True, max_length=128)\n",
    "\n",
    "train_ds = train_ds.map(preprocess_function, batched=True)\n",
    "valid_ds = valid_ds.map(preprocess_function, batched=True)\n",
    "test_ds = test_ds.map(preprocess_function, batched=True)"
   ]
  },
  {
   "cell_type": "code",
   "execution_count": 23,
   "id": "62746c3d-fc5c-4439-9706-79f7b1a14554",
   "metadata": {},
   "outputs": [],
   "source": [
    "from transformers import DataCollatorWithPadding\n",
    "\n",
    "data_collator = DataCollatorWithPadding(tokenizer=tokenizer)"
   ]
  },
  {
   "cell_type": "markdown",
   "id": "07522f35-77b4-45b8-838e-abf1e3ee119c",
   "metadata": {},
   "source": [
    "### Training DataSet"
   ]
  },
  {
   "cell_type": "code",
   "execution_count": 24,
   "id": "12aa5866-60a3-4c09-94f0-c4280c35286c",
   "metadata": {},
   "outputs": [],
   "source": [
    "# To avoid some warnings on notebook\n",
    "import os\n",
    "os.environ[\"TOKENIZERS_PARALLELISM\"] = \"false\""
   ]
  },
  {
   "cell_type": "code",
   "execution_count": 25,
   "id": "7744f580-1841-4c6a-8e39-65d5e75abcb6",
   "metadata": {},
   "outputs": [
    {
     "name": "stdout",
     "output_type": "stream",
     "text": [
      "WARNING:tensorflow:From C:\\Users\\fahad\\anaconda3\\Lib\\site-packages\\tf_keras\\src\\losses.py:2976: The name tf.losses.sparse_softmax_cross_entropy is deprecated. Please use tf.compat.v1.losses.sparse_softmax_cross_entropy instead.\n",
      "\n"
     ]
    },
    {
     "name": "stderr",
     "output_type": "stream",
     "text": [
      "Some weights of RobertaForSequenceClassification were not initialized from the model checkpoint at cardiffnlp/twitter-roberta-base-sentiment and are newly initialized because the shapes did not match:\n",
      "- classifier.out_proj.weight: found shape torch.Size([3, 768]) in the checkpoint and torch.Size([4, 768]) in the model instantiated\n",
      "- classifier.out_proj.bias: found shape torch.Size([3]) in the checkpoint and torch.Size([4]) in the model instantiated\n",
      "You should probably TRAIN this model on a down-stream task to be able to use it for predictions and inference.\n"
     ]
    }
   ],
   "source": [
    "from transformers import AutoModelForSequenceClassification, TrainingArguments, Trainer\n",
    "\n",
    "model = AutoModelForSequenceClassification.from_pretrained(\n",
    "    model_name, num_labels=len(labels), id2label=id2label, label2id=label2id, \n",
    "    ignore_mismatched_sizes=True, # The model was pretrained with 3 labels, but our dataset has 4 labels (a new head with random weights will be initialized)\n",
    ")"
   ]
  },
  {
   "cell_type": "code",
   "execution_count": 26,
   "id": "fe928cd4-ecb5-4986-861f-78e819681cf8",
   "metadata": {},
   "outputs": [],
   "source": [
    "#pip install accelerate -U"
   ]
  },
  {
   "cell_type": "code",
   "execution_count": 27,
   "id": "67364097-dc66-4230-837b-416cea0438cb",
   "metadata": {},
   "outputs": [
    {
     "name": "stderr",
     "output_type": "stream",
     "text": [
      "C:\\Users\\fahad\\anaconda3\\Lib\\site-packages\\transformers\\training_args.py:1494: FutureWarning: `evaluation_strategy` is deprecated and will be removed in version 4.46 of 🤗 Transformers. Use `eval_strategy` instead\n",
      "  warnings.warn(\n"
     ]
    }
   ],
   "source": [
    "# Adapted from https://huggingface.co/docs/transformers/tasks/sequence_classification\n",
    "training_args = TrainingArguments(\n",
    "    output_dir=\"twitter-sentiment-detector\",\n",
    "    learning_rate=2e-5,\n",
    "    per_device_train_batch_size=32,\n",
    "    per_device_eval_batch_size=32,\n",
    "    num_train_epochs=10,\n",
    "    weight_decay=0.01,\n",
    "    evaluation_strategy=\"epoch\",\n",
    "    save_strategy=\"epoch\",\n",
    "    load_best_model_at_end=True,\n",
    "    report_to=\"none\"\n",
    ")"
   ]
  },
  {
   "cell_type": "code",
   "execution_count": 28,
   "id": "0df23e0f-13fb-4f57-be8f-643a0f330b20",
   "metadata": {
    "scrolled": true
   },
   "outputs": [
    {
     "data": {
      "text/html": [
       "\n",
       "    <div>\n",
       "      \n",
       "      <progress value='290' max='290' style='width:300px; height:20px; vertical-align: middle;'></progress>\n",
       "      [290/290 1:48:40, Epoch 10/10]\n",
       "    </div>\n",
       "    <table border=\"1\" class=\"dataframe\">\n",
       "  <thead>\n",
       " <tr style=\"text-align: left;\">\n",
       "      <th>Epoch</th>\n",
       "      <th>Training Loss</th>\n",
       "      <th>Validation Loss</th>\n",
       "      <th>Accuracy</th>\n",
       "    </tr>\n",
       "  </thead>\n",
       "  <tbody>\n",
       "    <tr>\n",
       "      <td>1</td>\n",
       "      <td>No log</td>\n",
       "      <td>0.964574</td>\n",
       "      <td>0.610000</td>\n",
       "    </tr>\n",
       "    <tr>\n",
       "      <td>2</td>\n",
       "      <td>No log</td>\n",
       "      <td>0.735035</td>\n",
       "      <td>0.690000</td>\n",
       "    </tr>\n",
       "    <tr>\n",
       "      <td>3</td>\n",
       "      <td>No log</td>\n",
       "      <td>0.553663</td>\n",
       "      <td>0.800000</td>\n",
       "    </tr>\n",
       "    <tr>\n",
       "      <td>4</td>\n",
       "      <td>No log</td>\n",
       "      <td>0.360940</td>\n",
       "      <td>0.890000</td>\n",
       "    </tr>\n",
       "    <tr>\n",
       "      <td>5</td>\n",
       "      <td>No log</td>\n",
       "      <td>0.276912</td>\n",
       "      <td>0.910000</td>\n",
       "    </tr>\n",
       "    <tr>\n",
       "      <td>6</td>\n",
       "      <td>No log</td>\n",
       "      <td>0.325162</td>\n",
       "      <td>0.910000</td>\n",
       "    </tr>\n",
       "    <tr>\n",
       "      <td>7</td>\n",
       "      <td>No log</td>\n",
       "      <td>0.320119</td>\n",
       "      <td>0.890000</td>\n",
       "    </tr>\n",
       "    <tr>\n",
       "      <td>8</td>\n",
       "      <td>No log</td>\n",
       "      <td>0.310273</td>\n",
       "      <td>0.900000</td>\n",
       "    </tr>\n",
       "    <tr>\n",
       "      <td>9</td>\n",
       "      <td>No log</td>\n",
       "      <td>0.362517</td>\n",
       "      <td>0.900000</td>\n",
       "    </tr>\n",
       "    <tr>\n",
       "      <td>10</td>\n",
       "      <td>No log</td>\n",
       "      <td>0.355029</td>\n",
       "      <td>0.900000</td>\n",
       "    </tr>\n",
       "  </tbody>\n",
       "</table><p>"
      ],
      "text/plain": [
       "<IPython.core.display.HTML object>"
      ]
     },
     "metadata": {},
     "output_type": "display_data"
    },
    {
     "data": {
      "text/plain": [
       "TrainOutput(global_step=290, training_loss=0.24600885325464708, metrics={'train_runtime': 6549.1451, 'train_samples_per_second': 1.374, 'train_steps_per_second': 0.044, 'total_flos': 369521446040448.0, 'train_loss': 0.24600885325464708, 'epoch': 10.0})"
      ]
     },
     "execution_count": 28,
     "metadata": {},
     "output_type": "execute_result"
    }
   ],
   "source": [
    "trainer = Trainer(\n",
    "    model=model,\n",
    "    args=training_args,\n",
    "    train_dataset=train_ds,\n",
    "    eval_dataset=valid_ds,\n",
    "    tokenizer=tokenizer,\n",
    "    data_collator=data_collator,\n",
    "    compute_metrics=compute_metrics,\n",
    ")\n",
    "\n",
    "trainer.train()"
   ]
  },
  {
   "cell_type": "markdown",
   "id": "24bdcf7e-58fd-4bf7-b5c2-875316f3d622",
   "metadata": {},
   "source": [
    "## Evaluate on test set"
   ]
  },
  {
   "cell_type": "code",
   "execution_count": 29,
   "id": "46016ed2-532d-498a-9a4d-c9b167366317",
   "metadata": {},
   "outputs": [
    {
     "data": {
      "text/html": [],
      "text/plain": [
       "<IPython.core.display.HTML object>"
      ]
     },
     "metadata": {},
     "output_type": "display_data"
    },
    {
     "data": {
      "text/plain": [
       "{'accuracy': 0.568}"
      ]
     },
     "execution_count": 29,
     "metadata": {},
     "output_type": "execute_result"
    }
   ],
   "source": [
    "predictions = trainer.predict(test_ds)\n",
    "preds = np.argmax(predictions.predictions, axis=-1)\n",
    "accuracy.compute(predictions=preds, references=predictions.label_ids)"
   ]
  },
  {
   "cell_type": "markdown",
   "id": "cbad3980-4b77-4998-85d4-7933a2368c89",
   "metadata": {},
   "source": [
    "### Inference"
   ]
  },
  {
   "cell_type": "code",
   "execution_count": 30,
   "id": "432a8ee9-79e0-49f8-b830-d3b9f5569e6a",
   "metadata": {},
   "outputs": [],
   "source": [
    "texts = [\n",
    "    \"Another day, another “I feel like I’m being followed” experience.\",\n",
    "    \"HAPPY SAINT PATRICK'S DAY! I'M A BIG FAN OF SAINT PATRICK'S DAY, I'M ALSO A BIG FAN OF GREEN THINGS, WHO WOULDN'T BE? :D\"\n",
    "]"
   ]
  },
  {
   "cell_type": "code",
   "execution_count": 31,
   "id": "ef8bd6a0-534e-4fd8-9674-d0faa65f122f",
   "metadata": {},
   "outputs": [
    {
     "name": "stdout",
     "output_type": "stream",
     "text": [
      "['Negative', 'Positive']\n"
     ]
    }
   ],
   "source": [
    "inputs = tokenizer(texts, return_tensors=\"pt\", padding=True)\n",
    "model = model.to('cpu') # put model to cpu\n",
    "logits = model(**inputs).logits\n",
    "print([model.config.id2label[item.item()] for item in logits.argmax(axis=-1)])"
   ]
  },
  {
   "cell_type": "code",
   "execution_count": null,
   "id": "af0ec68f-1a7a-4fdc-8703-4646867f039c",
   "metadata": {},
   "outputs": [],
   "source": []
  }
 ],
 "metadata": {
  "kernelspec": {
   "display_name": "Python 3 (ipykernel)",
   "language": "python",
   "name": "python3"
  },
  "language_info": {
   "codemirror_mode": {
    "name": "ipython",
    "version": 3
   },
   "file_extension": ".py",
   "mimetype": "text/x-python",
   "name": "python",
   "nbconvert_exporter": "python",
   "pygments_lexer": "ipython3",
   "version": "3.11.7"
  }
 },
 "nbformat": 4,
 "nbformat_minor": 5
}
