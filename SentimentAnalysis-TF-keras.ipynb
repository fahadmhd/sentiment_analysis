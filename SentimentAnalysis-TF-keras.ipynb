{
 "cells": [
  {
   "cell_type": "code",
   "execution_count": 1,
   "id": "f8be722b-8b1f-4949-b6bb-23cebb0d64d0",
   "metadata": {},
   "outputs": [],
   "source": [
    "#pip install tf-keras"
   ]
  },
  {
   "cell_type": "code",
   "execution_count": 2,
   "id": "549a2ff8-9c1a-40ff-9a49-f16f1b99d909",
   "metadata": {},
   "outputs": [],
   "source": [
    "from transformers import pipeline"
   ]
  },
  {
   "cell_type": "code",
   "execution_count": 3,
   "id": "3113c938-e3e1-412d-abf4-c43d4bcf5bb8",
   "metadata": {},
   "outputs": [
    {
     "name": "stderr",
     "output_type": "stream",
     "text": [
      "No model was supplied, defaulted to distilbert/distilbert-base-uncased-finetuned-sst-2-english and revision af0f99b (https://huggingface.co/distilbert/distilbert-base-uncased-finetuned-sst-2-english).\n",
      "Using a pipeline without specifying a model name and revision in production is not recommended.\n"
     ]
    },
    {
     "name": "stdout",
     "output_type": "stream",
     "text": [
      "WARNING:tensorflow:From C:\\Users\\fahad\\anaconda3\\Lib\\site-packages\\tf_keras\\src\\losses.py:2976: The name tf.losses.sparse_softmax_cross_entropy is deprecated. Please use tf.compat.v1.losses.sparse_softmax_cross_entropy instead.\n",
      "\n"
     ]
    }
   ],
   "source": [
    "# Load the sentiment-analysis pipeline\n",
    "sentiment_pipeline = pipeline(\"sentiment-analysis\")\n",
    "\n",
    "# Example text for sentiment analysis\n",
    "texts = [\n",
    "\"I love using the Transformers library!\",\n",
    "\"This is the worst experience I've ever had.\",\n",
    "\"The weather is nice today.\",\n",
    "\"I am not happy with the service.\",\n",
    "\"I love this product! It works wonderfully.\",\n",
    "\"This is the worst experience I've ever had.\",\n",
    "\"The service was okay, nothing special.\",\n",
    "\"this is amazing product\",\n",
    "\"what a wastage of money\",\n",
    "\"what a wastage of money, I dont like it at all\",\n",
    "]"
   ]
  },
  {
   "cell_type": "code",
   "execution_count": 4,
   "id": "aa7be003-4996-4770-8ae0-47cb9e1a1781",
   "metadata": {},
   "outputs": [],
   "source": [
    "# Perform sentiment analysis\n",
    "results = sentiment_pipeline(texts)"
   ]
  },
  {
   "cell_type": "code",
   "execution_count": 5,
   "id": "3411a405-69c0-4997-939c-dc8e721fd34b",
   "metadata": {},
   "outputs": [
    {
     "name": "stdout",
     "output_type": "stream",
     "text": [
      "Text: I love using the Transformers library!\n",
      "Sentiment: POSITIVE, Score: 0.9994\n",
      "\n",
      "Text: This is the worst experience I've ever had.\n",
      "Sentiment: NEGATIVE, Score: 0.9998\n",
      "\n",
      "Text: The weather is nice today.\n",
      "Sentiment: POSITIVE, Score: 0.9998\n",
      "\n",
      "Text: I am not happy with the service.\n",
      "Sentiment: NEGATIVE, Score: 0.9997\n",
      "\n",
      "Text: I love this product! It works wonderfully.\n",
      "Sentiment: POSITIVE, Score: 0.9999\n",
      "\n",
      "Text: This is the worst experience I've ever had.\n",
      "Sentiment: NEGATIVE, Score: 0.9998\n",
      "\n",
      "Text: The service was okay, nothing special.\n",
      "Sentiment: NEGATIVE, Score: 0.9862\n",
      "\n",
      "Text: this is amazing product\n",
      "Sentiment: POSITIVE, Score: 0.9999\n",
      "\n",
      "Text: what a wastage of money\n",
      "Sentiment: NEGATIVE, Score: 0.9971\n",
      "\n",
      "Text: what a wastage of money, I dont like it at all\n",
      "Sentiment: NEGATIVE, Score: 0.9969\n",
      "\n"
     ]
    }
   ],
   "source": [
    "# Print the results\n",
    "for text, result in zip(texts, results):\n",
    "    print(f\"Text: {text}\\nSentiment: {result['label']}, Score: {result['score']:.4f}\\n\")"
   ]
  },
  {
   "cell_type": "code",
   "execution_count": null,
   "id": "07fa10f9-27fc-4c06-924b-2aa4b4a9f69d",
   "metadata": {},
   "outputs": [],
   "source": []
  }
 ],
 "metadata": {
  "kernelspec": {
   "display_name": "Python 3 (ipykernel)",
   "language": "python",
   "name": "python3"
  },
  "language_info": {
   "codemirror_mode": {
    "name": "ipython",
    "version": 3
   },
   "file_extension": ".py",
   "mimetype": "text/x-python",
   "name": "python",
   "nbconvert_exporter": "python",
   "pygments_lexer": "ipython3",
   "version": "3.11.7"
  }
 },
 "nbformat": 4,
 "nbformat_minor": 5
}
