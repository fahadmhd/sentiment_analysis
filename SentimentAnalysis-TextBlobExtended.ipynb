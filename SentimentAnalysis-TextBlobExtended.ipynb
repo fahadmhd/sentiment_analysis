{
 "cells": [
  {
   "cell_type": "code",
   "execution_count": 1,
   "id": "9f136bc2-d38a-4539-851a-1604ad304ebd",
   "metadata": {},
   "outputs": [],
   "source": [
    "from textblob import TextBlob\n",
    "import pandas as pd"
   ]
  },
  {
   "cell_type": "code",
   "execution_count": 2,
   "id": "e8523c1f-2763-428d-9f28-9f4822d1050a",
   "metadata": {},
   "outputs": [],
   "source": [
    "# Sample sentences for sentiment analysis\n",
    "sentences = [\n",
    "\"I love this product! It works wonderfully.\",\n",
    "\"This is the worst experience I've ever had.\",\n",
    "\"The service was okay, nothing special.\",\n",
    "\"this is amazing product\",\n",
    "\"what a wastage of money\",\n",
    "\"what a wastage of money, I dont like it at all\",\n",
    "]"
   ]
  },
  {
   "cell_type": "code",
   "execution_count": 3,
   "id": "6dbb8ea2-c3f7-428a-bdb4-b63a5bbb2bb5",
   "metadata": {},
   "outputs": [],
   "source": [
    "# Function to analyze sentiment\n",
    "def analyze_sentiment(text):\n",
    "    analysis = TextBlob(text)\n",
    "    # Classify sentiment\n",
    "    if analysis.sentiment.polarity > 0:\n",
    "        return 'Positive'\n",
    "    elif analysis.sentiment.polarity < 0:\n",
    "        return 'Negative'\n",
    "    else:\n",
    "        return 'Neutral'"
   ]
  },
  {
   "cell_type": "code",
   "execution_count": 4,
   "id": "b1c027a1-8817-4bc3-b97f-10eb55b32dfe",
   "metadata": {},
   "outputs": [],
   "source": [
    "# Create a DataFrame to store results\n",
    "df = pd.DataFrame(sentences, columns=['Sentence'])\n",
    "df['Sentiment'] = df['Sentence'].apply(analyze_sentiment)"
   ]
  },
  {
   "cell_type": "code",
   "execution_count": 5,
   "id": "cfe6b6f4-daf1-45bf-b809-7d39569c5637",
   "metadata": {},
   "outputs": [
    {
     "name": "stdout",
     "output_type": "stream",
     "text": [
      "                                         Sentence Sentiment\n",
      "0      I love this product! It works wonderfully.  Positive\n",
      "1     This is the worst experience I've ever had.  Negative\n",
      "2          The service was okay, nothing special.  Positive\n",
      "3                         this is amazing product  Positive\n",
      "4                         what a wastage of money   Neutral\n",
      "5  what a wastage of money, I dont like it at all   Neutral\n"
     ]
    }
   ],
   "source": [
    "# Display the results\n",
    "print(df)"
   ]
  },
  {
   "cell_type": "code",
   "execution_count": 6,
   "id": "1bfcdd03-2fe4-434d-845a-fe16d70dd428",
   "metadata": {},
   "outputs": [],
   "source": [
    "sentences =[ \n",
    "\"Informal mixed wine tasting event in Oslo. Not enough time for detailed tasting notes. Quite good Champagne. Smooth, juicy, and rich. Ripe green fruit of baked apples, white peach, and apricot. Mature citrus and lemon zest. Soft minerality and light autolysis, bread yeast, and pastry. Medium+ concentration, good intensity, acidity, and mousse. Long finish. Delicate, affordable, and worth your penny.\",\n",
    "\"A vital and sophisticated Blanc de Blanc Champagne that delivers citrus and brioche notes with high laser acidity, which tells champagne from other sparkling wines. 7g/L dosage, harvest in 2015, disgorgement in November 2021. Pale yellow color. Gas evidence. Developing nose/mouth of white peach, lemon, apple, pear, biscuit, brioche, nutty, smoke, wet stone. Brut, medium body, high laser acidity, medium alcohol (12.5%), multiflavored, long finish, high complexity. Can drink now, but has potential for aging.\",\n",
    "\"Lanson Le Blanc de Blancs 44 100% Chardonnay. Dosage: 7g/l. Disgorgement: 05 January 2021. Bouquet and taste: on the nose - a light creamy bun and flowers. On the palate - a green apple and a lemon that develops into a Domelo. Lemon juice, to our taste. Perhaps the bottle is just too young.\",\n",
    "\"Organic wine tasting #1. Nice light foam on the surface, fresh, light vanilla, round, no malolactic fermentation, just stainless steel. Green peach.\",\n",
    "\"Green apple, brioche, citrus, cream, lemon, yeast, apple, fresh bread.\",\n",
    "\"Not my favorite, a bit too much plum or something that takes away from the sparkle.\",\n",
    "\"Really lovely Blanc de Blancs at a great price. Richness and fat from almond and brioche flavors and bright gooseberry acidity.\",\n",
    "\"One of the finest champagnes for its price point; elegant and full of flavor. Has become my go-to champagne.\",\n",
    "\"Very nice. Green apple and brioche. Gentle mousse, with rounded flavors and a long finish.\",\n",
    "\"On the nose green apple, grapes, citrus, dried fruit, nougat, and brioche. Very fresh, well-integrated bubbles and medium finish. Would like to see more acidity to balance off sweet notes.\",\n",
    "\"Crisp and refreshing with dominant notes of green apple, citrus, and a hint of brioche. Well-balanced acidity and a smooth finish make this an excellent choice for any occasion.\",\n",
    "\"Pale lemon in color, pronounced on the nose with a smell of brioche, green apple, lemon, toast, yellow apple, apricot, honey. Dry, high acidity, creamy mousse, and medium-bodied. Taste of apple, toast, lemon, brioche, cream, honey, peach. Well balanced, medium+ complexity and finish.\",\n",
    "\"Another bit more Wimbledon action. 15 Crus. 7g/l dosage. 40% reserve wines (2014 is the rest). 5 years on lees. Pale lemon with golden hue. Nose is pronounced, needs a bit of air first, lots of baked apple, rye bread crust, almonds, caramel, and cream. Palate is pronounced with lots of candied lemon, candied lime, crunch lemon slices, touch of ginger, more bready notes. Dry, high (really high) acidity, medium body and alcohol. Not bad.\",\n",
    "\"Nice pale yellow color. Citrus, green apple, cream, and brioche on the nose. Nothing to fault. It is a refreshing and good to drink BdB champagne.\",\n",
    "\"Very pale greenish-yellow color. No malolactic fermentation, sharp acidity, some torréfaction, yellow apple, lemon.\",\n",
    "\"Wimbledon continues… 100% Chardonnay from 15 Cru sites, 70% of which are grand & premier cru. Base vintage 2014 with 40% reserve wines from 20 years of vintages. 5 years on lees. 7g/l dosage. Pale lemon, with golden hues. Pronounced, baked apple, crusty fresh bread, candied citrus, lime, caramel, cream. Dry. Medium body & alcohol. High acidity. Pronounced, candied lemon & lime, bread, ginger, almond, saline & chalk. Game, set & match to the Blanc de Blanc!\",\n",
    "\"Red and green apple, lemon, yogurt, buttermilk, touch of butter and cream, saffron, nutty note, and lovely mushroom/artichoke lingering finish.\",\n",
    "\"4.25, very lovely Blanc de Blancs that has two faces, the cold-refreshing and the warm-yeasty. Serve it very cold and over time let it warm up to see the beautiful change.\",\n",
    "\"Beautiful notes of yeast and brioche. Complex.\",\n",
    "\"Noble and well-rounded, very fine beads. No dominant flavor. Quite delicate. Great on its own.\",\n",
    "\"Very good Blanc de Blancs... crispy, fresh, and complex.\",\n",
    "\"Subtle blend of almond and milk chocolate. Very elegant.\",\n",
    "\"Green apple, brioche, cream, citrus.\",\n",
    "\"Visiting Lanson. Very nice tour, finished by tasting 3 champagnes. And this was my first Blanc de Blancs. 100% Chardonnay, very fresh just as the first one I tried.\",\n",
    "\"Great slightly more complex and interesting champagne, great yeast note filled nose, reminding me of apricot or vanilla crowns in a bakery, still fresh and very dry, lots of lemon - the key note really.\",\n",
    "\"Splendid wine, some bread tones with apples, lemons, and almonds, nice acidity, long finish.\",\n",
    "\"Wonderful fresh champagne with loads of green apple, citrus, and bread notes.\",\n",
    "\"A nice BdB which means 100% Chardonnay elaborated from a blend of 15 Chardonnay crus, most of them being Grand & Premier Crus classified. It came across as a shy player with a discreet nose. Give it time prior to tasting & it will impress you with delicacy of aromas like yellow fruit, yellow apple with hints of frangipane & tones of shaved almonds. The palate is balanced with chalky notes & tangerine aftertaste. The finish is somewhat on the shorter side. Drink it now, thank me later.\",\n",
    "\"Backlog. Mostue tasting. Sure.\",\n",
    "\"Strong citrus, clear, crispy fresh green apple, young.\",\n",
    "\"Had this as a welcoming drink with some small canapes. First impressions were strong citrus flavors, mainly lemon and apple with hints of yeast. In the aftertaste, some vanilla and light toast. Great champagne but did not make it into the top 10 of my list.\",\n",
    "\"Green apple, brioche, citrus.\",\n",
    "\"Light, refreshing green apples, brioche.\",\n",
    "\"Smell smoothly comfortable, it’s a vintage 2015 and you can tell! Butter… boom! What a powerful bubble, almost arrogant. It tickles your desire and your palate. Eventually, what remains? Maybe only a sweet aftertaste. Sweetly comfortable on the nose. The vinosity of 2015 is felt, but then boom! What a strong bubble, bordering on arrogance. It tickles your desire as well as the palate. But in the end, what do you have left? Maybe just too sweet a mouth.\",\n",
    "\"Wow - this is one of the better ones for me - perfect perlage, notes of brioche, toast, citrus, green apple, and hint of yeast. Love it now.\",\n",
    "\"Green apple, citrus, lemon, vanilla, apple.\",\n",
    "\"Green apple, brioche, cream, citrus, almond, vanilla, apple, yeast, lemon, honey, toast, tangerine, yellow apple, pear, peach, butter.\",\n",
    "\"Like or leave it. Might just be very different from what I’ve had before.\",\n",
    "\"Citrus - lemon - green apple hint of toast. In the mouth, light & fresh. Lovely BdB.\",\n",
    "\"An elegant and sophisticated Blanc de Blanc Champagne that delivers citrus and brioche notes with high laser acidity. It’s distinguished from other sparkling wines by its 7g/L dosage, harvested in 2015, and disgorged in November 2021. Pale yellow color. The nose and palate develop notes of white peach, lemon, apple, pear, biscuit, brioche, nutty, smoke, and wet stone. Brut, medium body, high laser acidity, medium alcohol (12.5%), multi-flavored, long finish, high complexity. Can be enjoyed now but also has potential for aging.\",\n",
    "\"Perfect rose champagne. Absolutely perfect.\",\n",
    "\"Give it some time, as the nose is quite attacking with sourdough and yeast. Then the full beauty of ripe yellow fruits and apple prevails. Touch of tangerine oil in the relatively shorter finish.\",\n",
    "\"Blanc de Blanc. Celebrating promotion. 70% premier and grand Crus, 5 years aging, 40% reserve wines. Medium+ body, fine and creamy mousse, medium alcohol, high acidity. Green apple, white peach, yellow plum, pear, almond, brioche, yeast, vanilla toast, fresh bread, lemon, tangerine. Great balance, very refreshing, medium+ finish.\",\n",
    "\"Love it! Green apple, toast, brioche, and yeast. Very nice perlage!\",\n",
    "\"Nice. Rounded, smooth. Pair with salmon toast.\",\n",
    "\"Ripe red fruit and honey.\",\n",
    "\"Green golden color with soft bubbles. A sensational nose with marzipan, pear, zesty citrus, and blossoms. A lively fresh palate with chalk and saline.\",\n",
    "\"Sushi restaurant in Shanghai. First bottle after Chinese New Year. It has Blanc de Blanc, fresh, truly rich. Well-matched with Japanese fresh dishes. Blanc de Blanc Light golden. Tiny bubbles. Discreet bouquet with apples. In the mouth, it has high acidity and more apple. Not too powerful but more light and fresh.\",\n",
    "\"Cream, green apple, lemon, apple, vanilla, brioche, honey, bak bak.\"\n",
    " ]"
   ]
  },
  {
   "cell_type": "code",
   "execution_count": 7,
   "id": "bd141bfe-de01-4edc-ad16-9c8c62cc049c",
   "metadata": {},
   "outputs": [],
   "source": [
    "# Create a DataFrame to store results\n",
    "df = pd.DataFrame(sentences, columns=['Sentence'])\n",
    "df['Sentiment'] = df['Sentence'].apply(analyze_sentiment)"
   ]
  },
  {
   "cell_type": "code",
   "execution_count": 8,
   "id": "8ad71b73-5ccf-4b44-bd1e-74abb9b6b28f",
   "metadata": {},
   "outputs": [
    {
     "name": "stdout",
     "output_type": "stream",
     "text": [
      "                                             Sentence Sentiment\n",
      "0   Informal mixed wine tasting event in Oslo. Not...  Positive\n",
      "1   A vital and sophisticated Blanc de Blanc Champ...  Positive\n",
      "2   Lanson Le Blanc de Blancs 44 100% Chardonnay. ...  Positive\n",
      "3   Organic wine tasting #1. Nice light foam on th...  Positive\n",
      "4   Green apple, brioche, citrus, cream, lemon, ye...  Positive\n",
      "5   Not my favorite, a bit too much plum or someth...  Positive\n",
      "6   Really lovely Blanc de Blancs at a great price...  Positive\n",
      "7   One of the finest champagnes for its price poi...  Positive\n",
      "8   Very nice. Green apple and brioche. Gentle mou...  Positive\n",
      "9   On the nose green apple, grapes, citrus, dried...  Positive\n",
      "10  Crisp and refreshing with dominant notes of gr...  Positive\n",
      "11  Pale lemon in color, pronounced on the nose wi...  Negative\n",
      "12  Another bit more Wimbledon action. 15 Crus. 7g...  Positive\n",
      "13  Nice pale yellow color. Citrus, green apple, c...  Positive\n",
      "14  Very pale greenish-yellow color. No malolactic...  Negative\n",
      "15  Wimbledon continues… 100% Chardonnay from 15 C...  Negative\n",
      "16  Red and green apple, lemon, yogurt, buttermilk...  Positive\n",
      "17  4.25, very lovely Blanc de Blancs that has two...  Positive\n",
      "18     Beautiful notes of yeast and brioche. Complex.  Positive\n",
      "19  Noble and well-rounded, very fine beads. No do...  Positive\n",
      "20  Very good Blanc de Blancs... crispy, fresh, an...  Positive\n",
      "21  Subtle blend of almond and milk chocolate. Ver...  Positive\n",
      "22               Green apple, brioche, cream, citrus.  Negative\n",
      "23  Visiting Lanson. Very nice tour, finished by t...  Positive\n",
      "24  Great slightly more complex and interesting ch...  Positive\n",
      "25  Splendid wine, some bread tones with apples, l...  Positive\n",
      "26  Wonderful fresh champagne with loads of green ...  Positive\n",
      "27  A nice BdB which means 100% Chardonnay elabora...  Positive\n",
      "28                     Backlog. Mostue tasting. Sure.  Positive\n",
      "29  Strong citrus, clear, crispy fresh green apple...  Positive\n",
      "30  Had this as a welcoming drink with some small ...  Positive\n",
      "31                      Green apple, brioche, citrus.  Negative\n",
      "32           Light, refreshing green apples, brioche.  Positive\n",
      "33  Smell smoothly comfortable, it’s a vintage 201...  Positive\n",
      "34  Wow - this is one of the better ones for me - ...  Positive\n",
      "35        Green apple, citrus, lemon, vanilla, apple.  Negative\n",
      "36  Green apple, brioche, cream, citrus, almond, v...  Negative\n",
      "37  Like or leave it. Might just be very different...   Neutral\n",
      "38  Citrus - lemon - green apple hint of toast. In...  Positive\n",
      "39  An elegant and sophisticated Blanc de Blanc Ch...  Positive\n",
      "40        Perfect rose champagne. Absolutely perfect.  Positive\n",
      "41  Give it some time, as the nose is quite attack...  Positive\n",
      "42  Blanc de Blanc. Celebrating promotion. 70% pre...  Positive\n",
      "43  Love it! Green apple, toast, brioche, and yeas...  Positive\n",
      "44     Nice. Rounded, smooth. Pair with salmon toast.  Positive\n",
      "45                          Ripe red fruit and honey.   Neutral\n",
      "46  Green golden color with soft bubbles. A sensat...  Positive\n",
      "47  Sushi restaurant in Shanghai. First bottle aft...  Positive\n",
      "48  Cream, green apple, lemon, apple, vanilla, bri...  Negative\n"
     ]
    }
   ],
   "source": [
    "# Display the results\n",
    "print(df)"
   ]
  }
 ],
 "metadata": {
  "kernelspec": {
   "display_name": "Python 3 (ipykernel)",
   "language": "python",
   "name": "python3"
  },
  "language_info": {
   "codemirror_mode": {
    "name": "ipython",
    "version": 3
   },
   "file_extension": ".py",
   "mimetype": "text/x-python",
   "name": "python",
   "nbconvert_exporter": "python",
   "pygments_lexer": "ipython3",
   "version": "3.11.7"
  }
 },
 "nbformat": 4,
 "nbformat_minor": 5
}
